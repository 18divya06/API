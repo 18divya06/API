{
  "nbformat": 4,
  "nbformat_minor": 0,
  "metadata": {
    "colab": {
      "name": "API Basics",
      "provenance": [],
      "collapsed_sections": []
    },
    "kernelspec": {
      "name": "python3",
      "display_name": "Python 3"
    }
  },
  "cells": [
    {
      "cell_type": "code",
      "metadata": {
        "id": "KRilgOjLt7mS",
        "colab": {
          "base_uri": "https://localhost:8080/"
        },
        "outputId": "af3f0228-10a4-41a0-ebbc-5c8825771697"
      },
      "source": [
        "!pip install flask-restful\r\n",
        "!pip install flask-ngrok"
      ],
      "execution_count": 1,
      "outputs": [
        {
          "output_type": "stream",
          "text": [
            "Collecting flask-restful\n",
            "  Downloading https://files.pythonhosted.org/packages/e9/83/d0d33c971de2d38e54b0037136c8b8d20b9c83d308bc6c220a25162755fd/Flask_RESTful-0.3.8-py2.py3-none-any.whl\n",
            "Collecting aniso8601>=0.82\n",
            "\u001b[?25l  Downloading https://files.pythonhosted.org/packages/93/4e/760c0aaf32034e2da98e1ac6d83b6ffc6d1301132af54c3950ee07785bfa/aniso8601-8.1.0-py2.py3-none-any.whl (44kB)\n",
            "\r\u001b[K     |███████▍                        | 10kB 21.6MB/s eta 0:00:01\r\u001b[K     |██████████████▉                 | 20kB 25.7MB/s eta 0:00:01\r\u001b[K     |██████████████████████▎         | 30kB 14.0MB/s eta 0:00:01\r\u001b[K     |█████████████████████████████▋  | 40kB 16.5MB/s eta 0:00:01\r\u001b[K     |████████████████████████████████| 51kB 5.8MB/s \n",
            "\u001b[?25hRequirement already satisfied: pytz in /usr/local/lib/python3.6/dist-packages (from flask-restful) (2018.9)\n",
            "Requirement already satisfied: six>=1.3.0 in /usr/local/lib/python3.6/dist-packages (from flask-restful) (1.15.0)\n",
            "Requirement already satisfied: Flask>=0.8 in /usr/local/lib/python3.6/dist-packages (from flask-restful) (1.1.2)\n",
            "Requirement already satisfied: click>=5.1 in /usr/local/lib/python3.6/dist-packages (from Flask>=0.8->flask-restful) (7.1.2)\n",
            "Requirement already satisfied: Jinja2>=2.10.1 in /usr/local/lib/python3.6/dist-packages (from Flask>=0.8->flask-restful) (2.11.2)\n",
            "Requirement already satisfied: itsdangerous>=0.24 in /usr/local/lib/python3.6/dist-packages (from Flask>=0.8->flask-restful) (1.1.0)\n",
            "Requirement already satisfied: Werkzeug>=0.15 in /usr/local/lib/python3.6/dist-packages (from Flask>=0.8->flask-restful) (1.0.1)\n",
            "Requirement already satisfied: MarkupSafe>=0.23 in /usr/local/lib/python3.6/dist-packages (from Jinja2>=2.10.1->Flask>=0.8->flask-restful) (1.1.1)\n",
            "Installing collected packages: aniso8601, flask-restful\n",
            "Successfully installed aniso8601-8.1.0 flask-restful-0.3.8\n",
            "Collecting flask-ngrok\n",
            "  Downloading https://files.pythonhosted.org/packages/af/6c/f54cb686ad1129e27d125d182f90f52b32f284e6c8df58c1bae54fa1adbc/flask_ngrok-0.0.25-py3-none-any.whl\n",
            "Requirement already satisfied: Flask>=0.8 in /usr/local/lib/python3.6/dist-packages (from flask-ngrok) (1.1.2)\n",
            "Requirement already satisfied: requests in /usr/local/lib/python3.6/dist-packages (from flask-ngrok) (2.23.0)\n",
            "Requirement already satisfied: Werkzeug>=0.15 in /usr/local/lib/python3.6/dist-packages (from Flask>=0.8->flask-ngrok) (1.0.1)\n",
            "Requirement already satisfied: itsdangerous>=0.24 in /usr/local/lib/python3.6/dist-packages (from Flask>=0.8->flask-ngrok) (1.1.0)\n",
            "Requirement already satisfied: click>=5.1 in /usr/local/lib/python3.6/dist-packages (from Flask>=0.8->flask-ngrok) (7.1.2)\n",
            "Requirement already satisfied: Jinja2>=2.10.1 in /usr/local/lib/python3.6/dist-packages (from Flask>=0.8->flask-ngrok) (2.11.2)\n",
            "Requirement already satisfied: idna<3,>=2.5 in /usr/local/lib/python3.6/dist-packages (from requests->flask-ngrok) (2.10)\n",
            "Requirement already satisfied: urllib3!=1.25.0,!=1.25.1,<1.26,>=1.21.1 in /usr/local/lib/python3.6/dist-packages (from requests->flask-ngrok) (1.24.3)\n",
            "Requirement already satisfied: certifi>=2017.4.17 in /usr/local/lib/python3.6/dist-packages (from requests->flask-ngrok) (2020.12.5)\n",
            "Requirement already satisfied: chardet<4,>=3.0.2 in /usr/local/lib/python3.6/dist-packages (from requests->flask-ngrok) (3.0.4)\n",
            "Requirement already satisfied: MarkupSafe>=0.23 in /usr/local/lib/python3.6/dist-packages (from Jinja2>=2.10.1->Flask>=0.8->flask-ngrok) (1.1.1)\n",
            "Installing collected packages: flask-ngrok\n",
            "Successfully installed flask-ngrok-0.0.25\n"
          ],
          "name": "stdout"
        }
      ]
    },
    {
      "cell_type": "code",
      "metadata": {
        "id": "I6fiuo8-wngz",
        "colab": {
          "base_uri": "https://localhost:8080/"
        },
        "outputId": "e0d0f482-fe77-4c78-826d-b81c3821b57a"
      },
      "source": [
        "from flask import Flask\r\n",
        "from flask_restful import Api, Resource, reqparse\r\n",
        "from flask_ngrok import run_with_ngrok\r\n",
        "\r\n",
        "import random\r\n",
        "app = Flask(__name__)\r\n",
        "api = Api(app)\r\n",
        "\r\n",
        "dev_jokes = [\r\n",
        "    {\r\n",
        "        \"id\": 0,\r\n",
        "        \"author\": \"NA\",\r\n",
        "        \"joke\": \"Q: How did the Coder CEO build his company headquarters? A: By calling the Constructor();\", \r\n",
        "        \"source\": \"https://github.com/shrutikapoor08/devjoke/blob/master/README.md\"\r\n",
        "    },\r\n",
        "    {\r\n",
        "        \"id\": 1,\r\n",
        "        \"author\": \"NA\",\r\n",
        "        \"joke\": \"Q: What is Hardware? A: The part of the computer which you can kick.\",\r\n",
        "        \"source\": \"https://github.com/shrutikapoor08/devjoke/blob/master/README.md\"\r\n",
        "    },\r\n",
        "    {\r\n",
        "        \"id\": 2,\r\n",
        "        \"author\": \"NA\",\r\n",
        "        \"joke\": \"Q: Who is a programmer? A: A programmer is a machine who turns coffee into code.\",\r\n",
        "        \"source\": \"https://github.com/shrutikapoor08/devjoke/blob/master/README.md\"\r\n",
        "    },\r\n",
        "    {\r\n",
        "        \"id\": 3,\r\n",
        "        \"author\": \"NA\",\r\n",
        "        \"joke\": \"First rule of programming : If it works DON'T touch it.\",\r\n",
        "        \"source\": \"https://github.com/shrutikapoor08/devjoke/blob/master/README.md\"\r\n",
        "    }\r\n",
        "]\r\n",
        "\r\n",
        "class joke(Resource):\r\n",
        "    def get(self, id=0):\r\n",
        "        if id == 0:\r\n",
        "            return random.choice(dev_jokes), 200\r\n",
        "        for joke in dev_jokes:\r\n",
        "            if(joke[\"id\"] == id):\r\n",
        "                return joke, 200\r\n",
        "        return \"Joke not found\", 404\r\n",
        "\r\n",
        "    def delete(self, id):\r\n",
        "        global dev_jokes\r\n",
        "        dev_jokes = [joke for joke in dev_jokes if joke[\"id\"] != id]\r\n",
        "        return f\"joke with id {id} is deleted.\", 200\r\n",
        "\r\n",
        "class home(Resource):\r\n",
        "  def get(self):\r\n",
        "    return \"\"\"\r\n",
        "    Hey there! This is a simple demo for making an API server made by Ali Mustufa Shaikh;\r\n",
        "    \"\"\"\r\n",
        "\r\n",
        "api.add_resource(joke, \"/joke\", \"/joke/\", \"/joke/<int:id>\")\r\n",
        "api.add_resource(home,\"/\")\r\n",
        "\r\n",
        "\r\n",
        "if __name__ == '__main__':\r\n",
        "    run_with_ngrok(app)\r\n",
        "    app.run()"
      ],
      "execution_count": 3,
      "outputs": [
        {
          "output_type": "stream",
          "text": [
            " * Serving Flask app \"__main__\" (lazy loading)\n",
            " * Environment: production\n",
            "\u001b[31m   WARNING: This is a development server. Do not use it in a production deployment.\u001b[0m\n",
            "\u001b[2m   Use a production WSGI server instead.\u001b[0m\n",
            " * Debug mode: off\n"
          ],
          "name": "stdout"
        },
        {
          "output_type": "stream",
          "text": [
            " * Running on http://127.0.0.1:5000/ (Press CTRL+C to quit)\n"
          ],
          "name": "stderr"
        },
        {
          "output_type": "stream",
          "text": [
            " * Running on http://63309e6c2075.ngrok.io\n",
            " * Traffic stats available on http://127.0.0.1:4040\n"
          ],
          "name": "stdout"
        },
        {
          "output_type": "stream",
          "text": [
            "127.0.0.1 - - [08/Jan/2021 11:15:45] \"\u001b[37mGET / HTTP/1.1\u001b[0m\" 200 -\n",
            "127.0.0.1 - - [08/Jan/2021 11:15:46] \"\u001b[33mGET /favicon.ico HTTP/1.1\u001b[0m\" 404 -\n"
          ],
          "name": "stderr"
        }
      ]
    },
    {
      "cell_type": "code",
      "metadata": {
        "id": "uSE7dFpGrYZy"
      },
      "source": [
        ""
      ],
      "execution_count": null,
      "outputs": []
    }
  ]
}